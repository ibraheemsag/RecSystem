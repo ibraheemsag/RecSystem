{
  "cells": [
    {
      "cell_type": "markdown",
      "metadata": {
        "id": "Q_1CHQRehi6J"
      },
      "source": [
        "### Imports"
      ]
    },
    {
      "cell_type": "code",
      "execution_count": 1,
      "metadata": {
        "id": "AjwVgKquhckW"
      },
      "outputs": [],
      "source": [
        "import os\n",
        "import numpy as np\n",
        "import pandas as pd\n",
        "import torch\n",
        "import torch.nn as nn\n",
        "import torch.nn.functional as F\n",
        "from torch.utils.data import Dataset, DataLoader, TensorDataset\n",
        "import matplotlib.pyplot as plt\n",
        "from tqdm.notebook import tqdm\n",
        "import gc\n",
        "import warnings\n",
        "import logging\n",
        "from datetime import datetime\n",
        "warnings.filterwarnings('ignore')\n",
        "from torch.cuda.amp import autocast, GradScaler\n",
        "import json"
      ]
    },
    {
      "cell_type": "code",
      "execution_count": 2,
      "metadata": {
        "id": "UhtmpX8PJoGd"
      },
      "outputs": [],
      "source": [
        "data_path = \"/content/drive/MyDrive/Colab Notebooks/rec/Data\""
      ]
    },
    {
      "cell_type": "markdown",
      "metadata": {
        "id": "gNGaonl8P5oy"
      },
      "source": [
        "### Split Data"
      ]
    },
    {
      "cell_type": "code",
      "execution_count": 3,
      "metadata": {
        "id": "mIx4pKPYK8w9"
      },
      "outputs": [],
      "source": [
        "RANDOM_SEED = 42\n",
        "np.random.seed(RANDOM_SEED)\n"
      ]
    },
    {
      "cell_type": "code",
      "execution_count": null,
      "metadata": {
        "id": "kMjGz95OPH32"
      },
      "outputs": [],
      "source": []
    },
    {
      "cell_type": "markdown",
      "metadata": {
        "id": "FZ82qGY1rBVo"
      },
      "source": [
        "### Process Object"
      ]
    },
    {
      "cell_type": "markdown",
      "metadata": {
        "id": "mPtUZemzTd9C"
      },
      "source": [
        "### Read in Data and Write Out"
      ]
    },
    {
      "cell_type": "code",
      "execution_count": 4,
      "metadata": {
        "id": "fu_QFDHXTmsE"
      },
      "outputs": [],
      "source": [
        "train_data = pd.read_pickle(os.path.join(data_path, 'train_shrunk50cols.pkl'))\n",
        "val_data = pd.read_pickle(os.path.join(data_path, 'val_shrunk50cols.pkl'))\n",
        "test_data = pd.read_pickle(os.path.join(data_path, 'test_shrunk50cols.pkl'))\n",
        "y_train = pd.read_pickle(os.path.join(data_path, 'y_train_scaled.pkl'))\n",
        "y_val = pd.read_pickle(os.path.join(data_path, 'y_val_scaled.pkl'))\n",
        "y_test = pd.read_pickle(os.path.join(data_path, 'y_test_scaled.pkl'))\n",
        "\n"
      ]
    },
    {
      "cell_type": "code",
      "execution_count": 5,
      "metadata": {
        "id": "xWVI_PiH5o0_"
      },
      "outputs": [],
      "source": [
        "with open(os.path.join(data_path, 'array_features.json'), 'r') as f:\n",
        "    array_features = json.load(f)"
      ]
    },
    {
      "cell_type": "code",
      "execution_count": 6,
      "metadata": {
        "colab": {
          "base_uri": "https://localhost:8080/"
        },
        "id": "4l9P_MA4LFXT",
        "outputId": "850de978-6fc4-4855-db70-29aa673a4cca"
      },
      "outputs": [
        {
          "name": "stdout",
          "output_type": "stream",
          "text": [
            "<class 'pandas.core.frame.DataFrame'>\n",
            "Index: 5595198 entries, 687866 to 969348\n",
            "Data columns (total 50 columns):\n",
            " #   Column                                     Dtype  \n",
            "---  ------                                     -----  \n",
            " 0   ratio_bucket_0_1_to_bucket_4_5             float64\n",
            " 1   year_avg_diff_bucket_0_1_vs_bucket_4_5     float64\n",
            " 2   runtime_avg_diff_bucket_0_1_vs_bucket_4_5  float64\n",
            " 3   rating_avg_diff_bucket_0_1_vs_bucket_4_5   float64\n",
            " 4   ratio_bucket_2_3_to_bucket_4_5             float64\n",
            " 5   year_avg_diff_bucket_2_3_vs_bucket_4_5     float64\n",
            " 6   runtime_avg_diff_bucket_2_3_vs_bucket_4_5  float64\n",
            " 7   rating_avg_diff_bucket_2_3_vs_bucket_4_5   float64\n",
            " 8   rating                                     float32\n",
            " 9   total_ratings                              float64\n",
            " 10  rating_avg                                 float64\n",
            " 11  rating_std                                 float64\n",
            " 12  bucket_4_5_movie_ids                       object \n",
            " 13  bucket_4_5_count                           float64\n",
            " 14  bucket_4_5_year_avg                        float64\n",
            " 15  bucket_4_5_runtime_avg                     float64\n",
            " 16  bucket_4_5_rating_avg                      float64\n",
            " 17  bucket_4_5_numvotes_avg                    float64\n",
            " 18  bucket_4_5_top_directors                   object \n",
            " 19  bucket_4_5_top_writers                     object \n",
            " 20  high_vs_low_ratio                          float64\n",
            " 21  rating_proportions_5.0                     float64\n",
            " 22  rating_proportions_4.0                     float64\n",
            " 23  rating_proportions_1.0                     float64\n",
            " 24  rating_proportions_3.0                     float64\n",
            " 25  rating_proportions_2.0                     float64\n",
            " 26  rating_proportions_3.5                     float64\n",
            " 27  rating_proportions_2.5                     float64\n",
            " 28  rating_proportions_4.5                     float64\n",
            " 29  rating_proportions_0.5                     float64\n",
            " 30  rating_proportions_1.5                     float64\n",
            " 31  bucket_4_5_genre_proportions_Drama         float64\n",
            " 32  bucket_4_5_genre_proportions_Comedy        float64\n",
            " 33  bucket_4_5_genre_proportions_Romance       float64\n",
            " 34  bucket_4_5_genre_proportions_Crime         float64\n",
            " 35  bucket_4_5_genre_proportions_Adventure     float64\n",
            " 36  bucket_4_5_genre_proportions_Action        float64\n",
            " 37  bucket_4_5_genre_proportions_Sci-Fi        float64\n",
            " 38  bucket_4_5_genre_proportions_Mystery       float64\n",
            " 39  bucket_4_5_genre_proportions_Thriller      float64\n",
            " 40  bucket_4_5_genre_proportions_Fantasy       float64\n",
            " 41  bucket_4_5_other_genre                     float64\n",
            " 42  startYear                                  float64\n",
            " 43  runtimeMinutes                             float64\n",
            " 44  genres                                     object \n",
            " 45  tconst_numeric                             float32\n",
            " 46  averageRating                              float64\n",
            " 47  numVotes                                   float64\n",
            " 48  directors                                  object \n",
            " 49  writers                                    object \n",
            "dtypes: float32(2), float64(42), object(6)\n",
            "memory usage: 2.1+ GB\n"
          ]
        }
      ],
      "source": [
        "train_data.info()"
      ]
    },
    {
      "cell_type": "code",
      "execution_count": 7,
      "metadata": {
        "colab": {
          "base_uri": "https://localhost:8080/"
        },
        "id": "V3ae24d5Lgnk",
        "outputId": "fdebf91a-e9df-47b7-bc62-7e29f8cbe216"
      },
      "outputs": [
        {
          "name": "stdout",
          "output_type": "stream",
          "text": [
            "Before: {'bucket_0_1_movie_ids': {'max_len': 16, 'vocab_size': 28329761, 'actual_max_len': 4578}, 'bucket_0_1_top_directors': {'max_len': 3, 'vocab_size': 89770, 'actual_max_len': 3}, 'bucket_0_1_top_writers': {'max_len': 3, 'vocab_size': 89890, 'actual_max_len': 3}, 'bucket_2_3_movie_ids': {'max_len': 16, 'vocab_size': 28912859, 'actual_max_len': 18781}, 'bucket_2_3_top_directors': {'max_len': 3, 'vocab_size': 89770, 'actual_max_len': 3}, 'bucket_2_3_top_writers': {'max_len': 3, 'vocab_size': 89877, 'actual_max_len': 3}, 'bucket_4_5_movie_ids': {'max_len': 16, 'vocab_size': 28912859, 'actual_max_len': 5511}, 'bucket_4_5_top_directors': {'max_len': 3, 'vocab_size': 89770, 'actual_max_len': 3}, 'bucket_4_5_top_writers': {'max_len': 3, 'vocab_size': 89879, 'actual_max_len': 3}, 'genres': {'max_len': 3, 'vocab_size': 29, 'actual_max_len': 3}, 'directors': {'max_len': 16, 'vocab_size': 89903, 'actual_max_len': 74}, 'writers': {'max_len': 16, 'vocab_size': 89918, 'actual_max_len': 63}}\n",
            "After: {'bucket_4_5_movie_ids': {'max_len': 16, 'vocab_size': 28912859, 'actual_max_len': 5511}, 'bucket_4_5_top_directors': {'max_len': 3, 'vocab_size': 89770, 'actual_max_len': 3}, 'bucket_4_5_top_writers': {'max_len': 3, 'vocab_size': 89879, 'actual_max_len': 3}, 'genres': {'max_len': 3, 'vocab_size': 29, 'actual_max_len': 3}, 'directors': {'max_len': 16, 'vocab_size': 89903, 'actual_max_len': 74}, 'writers': {'max_len': 16, 'vocab_size': 89918, 'actual_max_len': 63}}\n"
          ]
        }
      ],
      "source": [
        "columns = train_data.columns\n",
        "print(f\"Before: {array_features}\")\n",
        "for key in list(array_features.keys()):\n",
        "  if key not in columns:\n",
        "    array_features.pop(key)\n",
        "print(f\"After: {array_features}\")"
      ]
    },
    {
      "cell_type": "code",
      "execution_count": 8,
      "metadata": {
        "id": "tROjhCEHMBd2"
      },
      "outputs": [],
      "source": [
        "with open(os.path.join(data_path, 'array_features_shrunk.json'), 'w') as f:\n",
        "    json.dump(array_features, f)"
      ]
    },
    {
      "cell_type": "markdown",
      "metadata": {
        "id": "dtD_mVYIhrqo"
      },
      "source": [
        "###Exctract Dataset Information"
      ]
    },
    {
      "cell_type": "code",
      "execution_count": 9,
      "metadata": {
        "colab": {
          "base_uri": "https://localhost:8080/"
        },
        "id": "U3MZaJ0ON7I8",
        "outputId": "e2eea01a-e8f4-4308-ac40-c72288fa23aa"
      },
      "outputs": [
        {
          "data": {
            "text/plain": [
              "dict_keys(['bucket_4_5_movie_ids', 'bucket_4_5_top_directors', 'bucket_4_5_top_writers', 'genres', 'directors', 'writers'])"
            ]
          },
          "execution_count": 9,
          "metadata": {},
          "output_type": "execute_result"
        }
      ],
      "source": [
        "array_features.keys()"
      ]
    },
    {
      "cell_type": "code",
      "execution_count": 10,
      "metadata": {
        "colab": {
          "base_uri": "https://localhost:8080/"
        },
        "id": "GeoCukBfi9NE",
        "outputId": "a2543bbb-4ac9-4b23-81ec-2996acab9c82"
      },
      "outputs": [
        {
          "name": "stdout",
          "output_type": "stream",
          "text": [
            "Target: rating\n",
            "Objects: ['bucket_4_5_movie_ids', 'bucket_4_5_top_directors', 'bucket_4_5_top_writers', 'genres', 'directors', 'writers']\n",
            "Categorical: tconst_numeric\n",
            "Numerical: ['ratio_bucket_0_1_to_bucket_4_5', 'year_avg_diff_bucket_0_1_vs_bucket_4_5', 'runtime_avg_diff_bucket_0_1_vs_bucket_4_5', 'rating_avg_diff_bucket_0_1_vs_bucket_4_5', 'ratio_bucket_2_3_to_bucket_4_5', 'year_avg_diff_bucket_2_3_vs_bucket_4_5', 'runtime_avg_diff_bucket_2_3_vs_bucket_4_5', 'rating_avg_diff_bucket_2_3_vs_bucket_4_5', 'total_ratings', 'rating_avg', 'rating_std', 'bucket_4_5_count', 'bucket_4_5_year_avg', 'bucket_4_5_runtime_avg', 'bucket_4_5_rating_avg', 'bucket_4_5_numvotes_avg', 'high_vs_low_ratio', 'rating_proportions_5.0', 'rating_proportions_4.0', 'rating_proportions_1.0', 'rating_proportions_3.0', 'rating_proportions_2.0', 'rating_proportions_3.5', 'rating_proportions_2.5', 'rating_proportions_4.5', 'rating_proportions_0.5', 'rating_proportions_1.5', 'bucket_4_5_genre_proportions_Drama', 'bucket_4_5_genre_proportions_Comedy', 'bucket_4_5_genre_proportions_Romance', 'bucket_4_5_genre_proportions_Crime', 'bucket_4_5_genre_proportions_Adventure', 'bucket_4_5_genre_proportions_Action', 'bucket_4_5_genre_proportions_Sci-Fi', 'bucket_4_5_genre_proportions_Mystery', 'bucket_4_5_genre_proportions_Thriller', 'bucket_4_5_genre_proportions_Fantasy', 'bucket_4_5_other_genre', 'startYear', 'runtimeMinutes', 'averageRating', 'numVotes']\n"
          ]
        }
      ],
      "source": [
        "target = \"rating\"\n",
        "objects = [col for col in train_data.columns if train_data[col].dtype == \"object\"]\n",
        "categorical = \"tconst_numeric\"\n",
        "numerical = [col for col in train_data.columns if col not in objects + [categorical] + [target]]\n",
        "print(f\"Target: {target}\")\n",
        "print(f\"Objects: {objects}\")\n",
        "print(f\"Categorical: {categorical}\")\n",
        "print(f\"Numerical: {numerical}\")"
      ]
    },
    {
      "cell_type": "code",
      "execution_count": 11,
      "metadata": {
        "id": "QbvEVKn4RwTr"
      },
      "outputs": [],
      "source": [
        "cat_features = {}\n",
        "max_val_train = train_data[categorical].max() if not train_data.empty else 0\n",
        "max_val_val = val_data[categorical].max() if not val_data.empty else 0\n",
        "max_val = max(max_val_train, max_val_val)\n",
        "\n",
        "# Store vocab size for embeddings (max_val + 1 for 0-indexed embedding)\n",
        "cat_features[categorical] = int(max_val) + 1"
      ]
    },
    {
      "cell_type": "code",
      "execution_count": 12,
      "metadata": {
        "id": "FdJAJ-LJRxPv"
      },
      "outputs": [],
      "source": [
        "field_dims = {}\n",
        "for col in numerical:\n",
        "    field_dims[col] = 1  # Numerical features have dimension 1\n",
        "\n",
        "for col, vocab_size in cat_features.items():\n",
        "    field_dims[col] = vocab_size\n",
        "\n",
        "for col, info in array_features.items():\n",
        "    field_dims[col] = info['max_len']"
      ]
    },
    {
      "cell_type": "markdown",
      "metadata": {
        "id": "SVRhnfocNYZh"
      },
      "source": [
        "### Create Datasets"
      ]
    },
    {
      "cell_type": "code",
      "execution_count": 13,
      "metadata": {
        "id": "i2CxYfLqNOeL"
      },
      "outputs": [],
      "source": [
        "class DeepFMDataset(Dataset):\n",
        "    def __init__(self, X, y, numeric_cols, categorical_cols, array_cols, array_features):\n",
        "        self.X = X\n",
        "        self.y = y\n",
        "        self.numeric_cols = numeric_cols\n",
        "        self.categorical_cols = categorical_cols\n",
        "        self.array_cols = array_cols\n",
        "        self.array_features = array_features  # Store the array_features dictionary in the class\n",
        "\n",
        "    def __len__(self):\n",
        "        return len(self.X)\n",
        "\n",
        "    def __getitem__(self, idx):\n",
        "        # Get numerical features\n",
        "        if self.numeric_cols:\n",
        "            row = self.X.iloc[idx]\n",
        "            numerical_values = np.array([float(row[col]) for col in self.numeric_cols], dtype=np.float32)\n",
        "            # Clean any potential NaNs or Infs\n",
        "            numerical_values = np.nan_to_num(numerical_values, nan=0.0, posinf=0.0, neginf=0.0)\n",
        "            numerical_features = torch.tensor(numerical_values, dtype=torch.float32)\n",
        "        else:\n",
        "            numerical_features = torch.tensor([], dtype=torch.float32)\n",
        "\n",
        "        # Get categorical features\n",
        "        if self.categorical_cols:\n",
        "            if isinstance(self.categorical_cols, list):\n",
        "                categorical_values = np.array([int(self.X.iloc[idx][col]) for col in self.categorical_cols], dtype=np.int64)\n",
        "            else:\n",
        "                categorical_values = np.array([int(self.X.iloc[idx][self.categorical_cols])], dtype=np.int64)\n",
        "\n",
        "            categorical_features = torch.tensor(categorical_values, dtype=torch.long)\n",
        "        else:\n",
        "            categorical_features = torch.tensor([], dtype=torch.long)\n",
        "\n",
        "        # Get array features\n",
        "        array_features_dict = {}\n",
        "        if self.array_cols:\n",
        "            for col in self.array_cols:\n",
        "                arr = self.X.iloc[idx][col]\n",
        "                if isinstance(arr, np.ndarray):\n",
        "                    # Handle empty arrays\n",
        "                    if arr.size == 0:\n",
        "                        # Create a default empty array with proper dimensions\n",
        "                        arr = np.zeros(1, dtype=np.float32)\n",
        "\n",
        "                    # Continue with your existing max_len logic\n",
        "                    max_len = self.array_features[col]['max_len']\n",
        "                    if len(arr) > max_len:\n",
        "                        arr = arr[:max_len]\n",
        "                    array_features_dict[col] = torch.tensor(arr.astype(np.float32), dtype=torch.float32)\n",
        "                else:\n",
        "                    # Handle non-array case\n",
        "                    array_features_dict[col] = torch.tensor(np.zeros(1, dtype=np.float32), dtype=torch.float32)\n",
        "        # Get the target\n",
        "        target = torch.tensor(float(self.y.iloc[idx]), dtype=torch.float32)\n",
        "\n",
        "        return numerical_features, categorical_features, array_features_dict, target"
      ]
    },
    {
      "cell_type": "code",
      "execution_count": 14,
      "metadata": {
        "id": "ui7ZXqpKPCZD"
      },
      "outputs": [],
      "source": [
        "def collate_fn(batch):\n",
        "    numerical_features = []\n",
        "    categorical_features = []\n",
        "    array_features_dict = {col: [] for col in objects}\n",
        "    targets = []\n",
        "\n",
        "    for numerical, categorical, arrays, target in batch:\n",
        "        numerical_features.append(numerical)\n",
        "        categorical_features.append(categorical)\n",
        "        targets.append(target)\n",
        "\n",
        "        # Process array features with proper empty array handling\n",
        "        for col in objects:\n",
        "            if col in arrays:\n",
        "                # Handle case where array is empty or invalid\n",
        "                if arrays[col].numel() == 0:\n",
        "                    # Create a zero tensor of the required length\n",
        "                    arrays[col] = torch.zeros(array_features[col]['max_len'], dtype=torch.float32)\n",
        "\n",
        "                # Truncate if longer than our max length\n",
        "                max_len = array_features[col]['max_len']\n",
        "                if arrays[col].shape[0] > max_len:\n",
        "                    arrays[col] = arrays[col][:max_len]\n",
        "\n",
        "                # Pad if shorter than our max length\n",
        "                elif arrays[col].shape[0] < max_len:\n",
        "                    padding = torch.zeros(max_len - arrays[col].shape[0], dtype=torch.float32)\n",
        "                    arrays[col] = torch.cat([arrays[col], padding])\n",
        "\n",
        "                # Ensure values are valid (no NaN/Inf)\n",
        "                arrays[col] = torch.nan_to_num(arrays[col], nan=0.0, posinf=0.0, neginf=0.0)\n",
        "\n",
        "                array_features_dict[col].append(arrays[col])\n",
        "            else:\n",
        "                # Handle case where the column is missing completely\n",
        "                default_tensor = torch.zeros(array_features[col]['max_len'], dtype=torch.float32)\n",
        "                array_features_dict[col].append(default_tensor)\n",
        "\n",
        "    # Stack the features and targets with proper error handling\n",
        "    if numerical_features and all(f.numel() > 0 for f in numerical_features):\n",
        "        # Check for NaN/Inf values before stacking\n",
        "        for i, feat in enumerate(numerical_features):\n",
        "            numerical_features[i] = torch.nan_to_num(feat, nan=0.0, posinf=0.0, neginf=0.0)\n",
        "        numerical_batch = torch.stack(numerical_features)\n",
        "    else:\n",
        "        numerical_batch = None\n",
        "\n",
        "    if categorical_features and all(f.numel() > 0 for f in categorical_features):\n",
        "        categorical_batch = torch.stack(categorical_features)\n",
        "    else:\n",
        "        categorical_batch = None\n",
        "\n",
        "    # Clean and stack array features\n",
        "    for col in array_features_dict:\n",
        "        if array_features_dict[col]:\n",
        "            # Check for and handle any invalid tensors before stacking\n",
        "            for i, tensor in enumerate(array_features_dict[col]):\n",
        "                if torch.isnan(tensor).any() or torch.isinf(tensor).any():\n",
        "                    array_features_dict[col][i] = torch.nan_to_num(tensor, nan=0.0, posinf=0.0, neginf=0.0)\n",
        "\n",
        "    # Final assembly of array batches\n",
        "    array_batches = {col: torch.stack(tensors) if tensors else torch.zeros((len(batch), array_features[col]['max_len']), dtype=torch.float32)\n",
        "                     for col, tensors in array_features_dict.items()}\n",
        "\n",
        "    targets_batch = torch.stack(targets)\n",
        "\n",
        "    return numerical_batch, categorical_batch, array_batches, targets_batch"
      ]
    },
    {
      "cell_type": "code",
      "execution_count": 15,
      "metadata": {
        "id": "toA8gZCWPfht"
      },
      "outputs": [],
      "source": [
        "batch_size = 512"
      ]
    },
    {
      "cell_type": "code",
      "execution_count": 16,
      "metadata": {
        "id": "56VdFLN_Pw0D"
      },
      "outputs": [],
      "source": [
        "class FactorizationMachine(nn.Module):\n",
        "    def __init__(self):\n",
        "        super(FactorizationMachine, self).__init__()\n",
        "\n",
        "    def forward(self, x):\n",
        "        \"\"\"\n",
        "        x: A tensor of shape (batch_size, num_fields, embedding_dim)\n",
        "        \"\"\"\n",
        "        square_of_sum = torch.sum(x, dim=1) ** 2\n",
        "        sum_of_square = torch.sum(x ** 2, dim=1)\n",
        "        interaction = square_of_sum - sum_of_square\n",
        "        return 0.5 * torch.sum(interaction, dim=1, keepdim=True)\n",
        "\n",
        "class DeepFM(nn.Module):\n",
        "    def __init__(self, field_dims, cat_features, array_features,\n",
        "                 embedding_dim=16, mlp_dims=(128, 64), dropout=0.2):\n",
        "        super(DeepFM, self).__init__()\n",
        "        self.cat_features = cat_features\n",
        "        self.array_features = array_features\n",
        "        self.embedding_dim = embedding_dim\n",
        "\n",
        "        # Embedding layers for categorical features\n",
        "        self.embedding_dict = nn.ModuleDict()\n",
        "        for col, vocab_size in cat_features.items():\n",
        "            self.embedding_dict[col] = nn.Embedding(vocab_size, embedding_dim)\n",
        "\n",
        "        # Embedding layers for array features\n",
        "        self.array_embedding_dict = nn.ModuleDict()\n",
        "        for col, info in array_features.items():\n",
        "            # For array features, we need embeddings for each possible ID\n",
        "            # Since the array contains IDs, we need to estimate a reasonable vocab size\n",
        "            # Using 10000 as a default maximum ID value if not specified\n",
        "            vocab_size = info.get('vocab_size', 10000)\n",
        "            self.array_embedding_dict[col] = nn.Embedding(vocab_size, embedding_dim, padding_idx=0)\n",
        "\n",
        "        # Linear part for numeric features\n",
        "        self.numeric_linear = nn.Linear(len(field_dims) - len(cat_features) - len(array_features), 1)\n",
        "\n",
        "        # First-order part for categorical features\n",
        "        self.cat_linear_dict = nn.ModuleDict()\n",
        "        for col in cat_features:\n",
        "            self.cat_linear_dict[col] = nn.Embedding(cat_features[col], 1)\n",
        "\n",
        "        # FM part\n",
        "        self.fm = FactorizationMachine()\n",
        "\n",
        "        # Deep part (MLP)\n",
        "        self.mlp_input_dim = (len(cat_features) + len(array_features)) * embedding_dim + (len(field_dims) - len(cat_features) - len(array_features))\n",
        "        mlp_layers = []\n",
        "        input_dim = self.mlp_input_dim\n",
        "        for hidden_dim in mlp_dims:\n",
        "            mlp_layers.append(nn.Linear(input_dim, hidden_dim))\n",
        "            mlp_layers.append(nn.BatchNorm1d(hidden_dim))\n",
        "            mlp_layers.append(nn.ReLU())\n",
        "            mlp_layers.append(nn.Dropout(dropout))\n",
        "            input_dim = hidden_dim\n",
        "        mlp_layers.append(nn.Linear(input_dim, 1))\n",
        "        self.mlp = nn.Sequential(*mlp_layers)\n",
        "\n",
        "    def forward(self, numerical_features, categorical_features, array_features_dict):\n",
        "        \"\"\"\n",
        "        numerical_features: Tensor of shape (batch_size, num_numerical_features)\n",
        "        categorical_features: Tensor of shape (batch_size, num_categorical_features)\n",
        "        array_features_dict: Dictionary of tensors for array features\n",
        "            Each tensor has shape (batch_size, max_len)\n",
        "        \"\"\"\n",
        "        # Linear part (first-order)\n",
        "        linear_part = 0\n",
        "        if numerical_features is not None:\n",
        "            linear_part += self.numeric_linear(numerical_features)\n",
        "\n",
        "        # Process categorical features\n",
        "        categorical_embeddings = []\n",
        "        categorical_first_order = 0\n",
        "\n",
        "        if categorical_features is not None and categorical_features.numel() > 0:\n",
        "            for i, col in enumerate(self.cat_features):\n",
        "                # First order\n",
        "                categorical_first_order += self.cat_linear_dict[col](categorical_features[:, i]).squeeze(1).unsqueeze(-1)\n",
        "\n",
        "                # Get embeddings for deep and FM parts\n",
        "                embedding = self.embedding_dict[col](categorical_features[:, i])\n",
        "                categorical_embeddings.append(embedding.unsqueeze(1))\n",
        "\n",
        "        # Process array features (mean pooling over embeddings) - FIXED VERSION\n",
        "        array_embeddings = []\n",
        "        for col, tensor in array_features_dict.items():\n",
        "            # Ensure tensor is valid - convert NaN or invalid values to zeros\n",
        "            tensor = torch.nan_to_num(tensor, nan=0.0, posinf=0.0, neginf=0.0)\n",
        "\n",
        "            # Convert to long type safely by first clamping to valid range\n",
        "            max_index = self.array_embedding_dict[col].weight.size(0) - 1\n",
        "            tensor_clamped = torch.clamp(tensor, 0, max_index).long()\n",
        "\n",
        "            # Pass to embedding layer\n",
        "            embedded = self.array_embedding_dict[col](tensor_clamped)  # (batch_size, max_len, embedding_dim)\n",
        "\n",
        "            # Create mask for padding values (0s) - safely\n",
        "            mask = (tensor_clamped != 0).float().unsqueeze(-1)  # (batch_size, max_len, 1)\n",
        "\n",
        "            # Apply mask to embeddings\n",
        "            masked_embedded = embedded * mask\n",
        "\n",
        "            # Calculate mean - sum over max_len dimension and divide by count of non-padding elements\n",
        "            sum_embedded = torch.sum(masked_embedded, dim=1)  # (batch_size, embedding_dim)\n",
        "            count_non_padding = torch.sum(mask, dim=1) + 1e-10  # Add small epsilon to avoid division by zero\n",
        "            pooled = sum_embedded / count_non_padding  # (batch_size, embedding_dim)\n",
        "\n",
        "            array_embeddings.append(pooled.unsqueeze(1))\n",
        "\n",
        "        linear_part = linear_part + categorical_first_order\n",
        "\n",
        "        # FM part\n",
        "        fm_embeddings = []\n",
        "        if categorical_embeddings:\n",
        "            fm_embeddings.extend(categorical_embeddings)\n",
        "        if array_embeddings:\n",
        "            fm_embeddings.extend(array_embeddings)\n",
        "\n",
        "        if fm_embeddings:\n",
        "            fm_input = torch.cat(fm_embeddings, dim=1)\n",
        "            fm_part = self.fm(fm_input)\n",
        "        else:\n",
        "            fm_part = torch.zeros(numerical_features.shape[0], 1, device=numerical_features.device)\n",
        "\n",
        "        # Deep part\n",
        "        deep_input = []\n",
        "        if numerical_features is not None:\n",
        "            deep_input.append(numerical_features)\n",
        "\n",
        "        if categorical_embeddings:\n",
        "            cat_embeddings_concat = torch.cat([emb.squeeze(1) for emb in categorical_embeddings], dim=1)\n",
        "            deep_input.append(cat_embeddings_concat)\n",
        "\n",
        "        if array_embeddings:\n",
        "            array_embeddings_concat = torch.cat([emb.squeeze(1) for emb in array_embeddings], dim=1)\n",
        "            deep_input.append(array_embeddings_concat)\n",
        "\n",
        "        if deep_input:\n",
        "            deep_input_concat = torch.cat(deep_input, dim=1)\n",
        "            deep_part = self.mlp(deep_input_concat)\n",
        "        else:\n",
        "            deep_part = torch.zeros(numerical_features.shape[0], 1, device=numerical_features.device)\n",
        "\n",
        "        # Final prediction\n",
        "        output = linear_part + fm_part + deep_part\n",
        "        return output.squeeze(1)"
      ]
    },
    {
      "cell_type": "code",
      "execution_count": 17,
      "metadata": {
        "id": "uYij6QSeS8WD"
      },
      "outputs": [],
      "source": [
        "logging.basicConfig(\n",
        "    level=logging.INFO,\n",
        "    format='%(asctime)s - %(name)s - %(levelname)s - %(message)s',\n",
        "    handlers=[\n",
        "        logging.FileHandler(f\"deepfm_training_{datetime.now().strftime('%Y%m%d_%H%M%S')}.log\"),\n",
        "        logging.StreamHandler()\n",
        "    ]\n",
        ")\n",
        "logger = logging.getLogger('DeepFM')"
      ]
    },
    {
      "cell_type": "code",
      "execution_count": 18,
      "metadata": {
        "id": "GmUE_MTBS-ym"
      },
      "outputs": [],
      "source": [
        "hyperparams = {\n",
        "    'embedding_dim': 24,                # Increased from 16 to capture more nuanced patterns\n",
        "    'mlp_dims': (192, 96, 48),          # Wider network with consistent reduction pattern\n",
        "    'dropout': 0.25,                    # Increased to combat overfitting\n",
        "    'learning_rate': 0.0008,            # Slightly reduced to prevent oscillation\n",
        "    'batch_size': 512,                  # Keep same batch size\n",
        "    'weight_decay': 2e-5,               # Significantly increased regularization\n",
        "    'scheduler_warmup_steps': 500,      # Keep same\n",
        "    'lr_scheduler_factor': 0.5,         # More aggressive LR reduction\n",
        "    'lr_scheduler_patience': 2,         # Reduced patience for faster adaptation\n",
        "    'epochs': 15,                       # Increased to allow learning with stronger regularization\n",
        "    'patience': 3                       # Slightly increased patience\n",
        "}\n",
        "# Log hyperparameters\n",
        "logger.info(\"Training with hyperparameters:\")\n",
        "for param, value in hyperparams.items():\n",
        "    logger.info(f\"  {param}: {value}\")\n",
        "\n",
        "device = torch.device('cuda' if torch.cuda.is_available() else 'cpu')\n",
        "logger.info(f\"Using device: {device}\")\n",
        "\n"
      ]
    },
    {
      "cell_type": "code",
      "execution_count": 19,
      "metadata": {
        "id": "t4pNIC8Sg0Fh"
      },
      "outputs": [],
      "source": [
        "def clear_gpu_memory():\n",
        "    \"\"\"Aggressively clear GPU memory\"\"\"\n",
        "    gc.collect()\n",
        "    torch.cuda.empty_cache()\n",
        "    # If you're using PyTorch 2.0+, you can also use:\n",
        "    if hasattr(torch.cuda, 'memory_stats'):\n",
        "        print(f\"Memory allocated before clearing: {torch.cuda.memory_allocated() / 1e9:.2f} GB\")\n",
        "    torch.cuda.synchronize()  # Wait for all CUDA operations to finish\n",
        "    gc.collect()\n",
        "    torch.cuda.empty_cache()\n",
        "    if hasattr(torch.cuda, 'memory_stats'):\n",
        "        print(f\"Memory allocated after clearing: {torch.cuda.memory_allocated() / 1e9:.2f} GB\")"
      ]
    },
    {
      "cell_type": "code",
      "execution_count": 20,
      "metadata": {
        "id": "P_CEboD8jQTh"
      },
      "outputs": [],
      "source": [
        "os.environ[\"CUDA_LAUNCH_BLOCKING\"] = \"1\""
      ]
    },
    {
      "cell_type": "code",
      "execution_count": 21,
      "metadata": {
        "colab": {
          "base_uri": "https://localhost:8080/"
        },
        "id": "1Mlc3pzBnKCT",
        "outputId": "9dd0db3a-1844-4b31-ec19-aa8e1c7496f0"
      },
      "outputs": [
        {
          "name": "stdout",
          "output_type": "stream",
          "text": [
            "Memory allocated before clearing: 0.00 GB\n",
            "Memory allocated after clearing: 0.00 GB\n"
          ]
        }
      ],
      "source": [
        "clear_gpu_memory()\n"
      ]
    },
    {
      "cell_type": "markdown",
      "metadata": {
        "id": "I9llBaAOQlYp"
      },
      "source": [
        "###"
      ]
    },
    {
      "cell_type": "code",
      "execution_count": 22,
      "metadata": {
        "id": "MmHnfZsBeqvE"
      },
      "outputs": [],
      "source": [
        "def evaluate_model(model, test_loader, criterion, device):\n",
        "    \"\"\"\n",
        "    Evaluate the model on the test set with mixed precision\n",
        "    \"\"\"\n",
        "    model.eval()\n",
        "    test_loss = 0\n",
        "    test_batches = 0\n",
        "    all_targets = []\n",
        "    all_predictions = []\n",
        "\n",
        "    print(\"Beginning evaluation...\")\n",
        "    with torch.no_grad():\n",
        "        for numerical, categorical, array_batches, targets in tqdm(test_loader, desc=\"Evaluating\"):\n",
        "            # Move data to device\n",
        "            if numerical is not None:\n",
        "                numerical = numerical.to(device, non_blocking=True)\n",
        "            if categorical is not None:\n",
        "                categorical = categorical.to(device, non_blocking=True)\n",
        "            array_batches = {col: tensor.to(device, non_blocking=True) for col, tensor in array_batches.items()}\n",
        "            targets = targets.to(device, non_blocking=True)\n",
        "\n",
        "            # Forward pass with mixed precision\n",
        "            with autocast():\n",
        "                outputs = model(numerical, categorical, array_batches)\n",
        "                loss = criterion(outputs, targets)\n",
        "\n",
        "            # Update statistics\n",
        "            test_loss += loss.item()\n",
        "            test_batches += 1\n",
        "\n",
        "            # Store predictions and targets\n",
        "            all_targets.extend(targets.cpu().numpy())\n",
        "            all_predictions.extend(outputs.cpu().numpy())\n",
        "\n",
        "            # Free memory\n",
        "            del numerical, categorical, array_batches, targets, outputs\n",
        "            torch.cuda.empty_cache()\n",
        "\n",
        "    # Calculate metrics\n",
        "    avg_test_loss = test_loss / test_batches\n",
        "    rmse = np.sqrt(np.mean((np.array(all_predictions) - np.array(all_targets)) ** 2))\n",
        "    mae = np.mean(np.abs(np.array(all_predictions) - np.array(all_targets)))\n",
        "\n",
        "    print(f\"Test Loss: {avg_test_loss:.6f}\")\n",
        "    print(f\"RMSE: {rmse:.6f}\")\n",
        "    print(f\"MAE: {mae:.6f}\")\n",
        "\n",
        "    return avg_test_loss, rmse, mae, all_targets, all_predictions"
      ]
    },
    {
      "cell_type": "code",
      "execution_count": 23,
      "metadata": {
        "id": "u3L4zE2B52uR"
      },
      "outputs": [],
      "source": [
        "test_dataset = DeepFMDataset(\n",
        "    test_data,\n",
        "    y_test,\n",
        "    numerical,\n",
        "    categorical,\n",
        "    objects,\n",
        "    array_features\n",
        ")\n",
        "test_loader = DataLoader(\n",
        "    test_dataset,\n",
        "    batch_size=batch_size,\n",
        "    shuffle=False,\n",
        "    collate_fn=collate_fn,\n",
        "    pin_memory=True,\n",
        "    num_workers=4\n",
        ")"
      ]
    },
    {
      "cell_type": "code",
      "execution_count": 24,
      "metadata": {
        "id": "nmOD-yrF93PJ"
      },
      "outputs": [],
      "source": [
        "criterion = nn.MSELoss()"
      ]
    },
    {
      "cell_type": "markdown",
      "metadata": {
        "id": "jYxAQRDr5Hz4"
      },
      "source": [
        "### Load Best Checkpoint"
      ]
    },
    {
      "cell_type": "code",
      "execution_count": 25,
      "metadata": {
        "colab": {
          "base_uri": "https://localhost:8080/"
        },
        "id": "Yhv0xgz25Kam",
        "outputId": "d2b65325-925b-4d57-c8ea-83e6a1f4a53a"
      },
      "outputs": [
        {
          "name": "stdout",
          "output_type": "stream",
          "text": [
            "Best checkpoint loaded successfully.\n"
          ]
        }
      ],
      "source": [
        "\n",
        "checkpoint_path = '/content/drive/MyDrive/deepfm_checkpoints/deepfm_best_model.pth'\n",
        "checkpoint = torch.load(checkpoint_path, map_location=device)\n",
        "print(\"Best checkpoint loaded successfully.\")\n"
      ]
    },
    {
      "cell_type": "markdown",
      "metadata": {
        "id": "wOlV192q7Toc"
      },
      "source": [
        "### Create Model"
      ]
    },
    {
      "cell_type": "code",
      "execution_count": 26,
      "metadata": {
        "colab": {
          "base_uri": "https://localhost:8080/"
        },
        "id": "Had5qhMa7RTS",
        "outputId": "1b938fed-a2dc-4d9f-ff44-3e1dc9e67a81"
      },
      "outputs": [
        {
          "data": {
            "text/plain": [
              "<All keys matched successfully>"
            ]
          },
          "execution_count": 26,
          "metadata": {},
          "output_type": "execute_result"
        }
      ],
      "source": [
        "model = DeepFM(\n",
        "    field_dims=field_dims,\n",
        "    cat_features=cat_features,\n",
        "    array_features=array_features,\n",
        "    embedding_dim=hyperparams[\"embedding_dim\"],\n",
        "    mlp_dims=hyperparams[\"mlp_dims\"],\n",
        "    dropout=hyperparams[\"dropout\"]\n",
        ").to(device)\n",
        "model.load_state_dict(checkpoint['model_state_dict'])"
      ]
    },
    {
      "cell_type": "code",
      "execution_count": 27,
      "metadata": {
        "colab": {
          "base_uri": "https://localhost:8080/",
          "height": 151,
          "referenced_widgets": [
            "c64d7952bd94473f816efe8a8120d8a0",
            "5657ca66a80345439ab4b8942f71267b",
            "3a2439d735864c339405cfb86c13bfcb",
            "b0f9f16e2dec42d68c548cb147d947ae",
            "edef73fe967e44cfaa516866ce9b1d36",
            "94679b71db64462b80451f3ad72dd3ef",
            "7fd418923f934f28a00a078b51271d59",
            "c084de50411347e6a91eef8fea86d43f",
            "9653e190f0e84adebc80d9729c7cae9d",
            "624118537ac946c18cc50d28ae3dbadd",
            "359a068d8ba74a6384ec073a04e1aa94"
          ]
        },
        "id": "u37znNPo-KrT",
        "outputId": "6fe9eec3-5ff9-422f-cf73-2f117a1997a8"
      },
      "outputs": [
        {
          "name": "stdout",
          "output_type": "stream",
          "text": [
            "Starting evaluation on 1598628 test samples...\n",
            "Beginning evaluation...\n"
          ]
        },
        {
          "data": {
            "application/vnd.jupyter.widget-view+json": {
              "model_id": "c64d7952bd94473f816efe8a8120d8a0",
              "version_major": 2,
              "version_minor": 0
            },
            "text/plain": [
              "Evaluating:   0%|          | 0/3123 [00:00<?, ?it/s]"
            ]
          },
          "metadata": {},
          "output_type": "display_data"
        },
        {
          "name": "stdout",
          "output_type": "stream",
          "text": [
            "Test Loss: 0.528465\n",
            "RMSE: 0.726965\n",
            "MAE: 0.549887\n",
            "Evaluation completed in 542.13 seconds\n"
          ]
        }
      ],
      "source": [
        "# Cell: Run evaluation\n",
        "import time\n",
        "start_time = time.time()\n",
        "print(f\"Starting evaluation on {len(test_dataset)} test samples...\")\n",
        "\n",
        "avg_test_loss, rmse, mae, actual, predicted = evaluate_model(model, test_loader, criterion, device)\n",
        "\n",
        "elapsed_time = time.time() - start_time\n",
        "print(f\"Evaluation completed in {elapsed_time:.2f} seconds\")"
      ]
    },
    {
      "cell_type": "code",
      "execution_count": 28,
      "metadata": {
        "colab": {
          "base_uri": "https://localhost:8080/",
          "height": 1000
        },
        "id": "S4pMemQw-M4h",
        "outputId": "d3927859-fd61-4f11-d8f7-2885d1e21097"
      },
      "outputs": [
        {
          "data": {
            "image/png": "[encoded data removed]",
            "text/plain": [
              "<Figure size 1000x800 with 1 Axes>"
            ]
          },
          "metadata": {},
          "output_type": "display_data"
        },
        {
          "data": {
            "image/png": "[encoded data removed]",
            "text/plain": [
              "<Figure size 1000x800 with 1 Axes>"
            ]
          },
          "metadata": {},
          "output_type": "display_data"
        },
        {
          "data": {
            "image/png": "[encoded data removed]",
            "text/plain": [
              "<Figure size 1000x800 with 2 Axes>"
            ]
          },
          "metadata": {},
          "output_type": "display_data"
        },
        {
          "data": {
            "image/png": "[encoded data removed]",
            "text/plain": [
              "<Figure size 1000x800 with 1 Axes>"
            ]
          },
          "metadata": {},
          "output_type": "display_data"
        }
      ],
      "source": [
        "import matplotlib.pyplot as plt\n",
        "import numpy as np\n",
        "\n",
        "def plot_actual_vs_predicted(actual, predicted):\n",
        "    \"\"\"Create scatter plot of actual vs predicted ratings\"\"\"\n",
        "    plt.figure(figsize=(10, 8))\n",
        "    plt.scatter(actual, predicted, alpha=0.3, color='blue', s=8)\n",
        "    plt.plot([min(actual), max(actual)], [min(actual), max(actual)], 'r--')\n",
        "    plt.xlabel('Actual Rating')\n",
        "    plt.ylabel('Predicted Rating')\n",
        "    plt.title('Actual vs Predicted Ratings')\n",
        "    plt.grid(True, alpha=0.3)\n",
        "    plt.tight_layout()\n",
        "    plt.show()\n",
        "\n",
        "def plot_error_histogram(actual, predicted, mae, rmse):\n",
        "    \"\"\"Create histogram of prediction errors\"\"\"\n",
        "    plt.figure(figsize=(10, 8))\n",
        "    errors = np.array(predicted) - np.array(actual)\n",
        "    plt.hist(errors, bins=50, alpha=0.7, color='green')\n",
        "    plt.xlabel('Prediction Error')\n",
        "    plt.ylabel('Count')\n",
        "    plt.title(f'Error Distribution (MAE: {mae:.4f}, RMSE: {rmse:.4f})')\n",
        "    plt.grid(True, alpha=0.3)\n",
        "    plt.tight_layout()\n",
        "    plt.show()\n",
        "\n",
        "def plot_error_density(actual, predicted):\n",
        "    \"\"\"Create hexbin plot of error density by actual rating\"\"\"\n",
        "    plt.figure(figsize=(10, 8))\n",
        "    errors = np.array(predicted) - np.array(actual)\n",
        "    plt.hexbin(actual, errors, gridsize=50, cmap='Blues')\n",
        "    plt.xlabel('Actual Rating')\n",
        "    plt.ylabel('Prediction Error')\n",
        "    plt.title('Error Density by Actual Rating')\n",
        "    plt.colorbar(label='Count')\n",
        "    plt.tight_layout()\n",
        "    plt.show()\n",
        "\n",
        "def plot_rating_distributions(actual, predicted):\n",
        "    \"\"\"Create histogram comparing actual and predicted rating distributions\"\"\"\n",
        "    plt.figure(figsize=(10, 8))\n",
        "    plt.hist(actual, bins=20, alpha=0.5, label='Actual Ratings', color='blue')\n",
        "    plt.hist(predicted, bins=20, alpha=0.5, label='Predicted Ratings', color='red')\n",
        "    plt.xlabel('Rating')\n",
        "    plt.ylabel('Count')\n",
        "    plt.title('Distribution of Ratings')\n",
        "    plt.legend()\n",
        "    plt.grid(True, alpha=0.3)\n",
        "    plt.tight_layout()\n",
        "    plt.show()\n",
        "\n",
        "def plot_all_evaluation_results(actual, predicted, mae, rmse):\n",
        "    \"\"\"Generate all evaluation visualizations as separate plots\"\"\"\n",
        "    plot_actual_vs_predicted(actual, predicted)\n",
        "    plot_error_histogram(actual, predicted, mae, rmse)\n",
        "    plot_error_density(actual, predicted)\n",
        "    plot_rating_distributions(actual, predicted)\n",
        "\n",
        "# Example usage:\n",
        "plot_all_evaluation_results(actual, predicted, mae, rmse)"
      ]
    },
    {
      "cell_type": "code",
      "execution_count": 29,
      "metadata": {
        "id": "q7kDIpJ0-QBV"
      },
      "outputs": [],
      "source": [
        "# Cell: Calculate and display additional metrics\n",
        "from sklearn.metrics import mean_absolute_error, mean_squared_error, r2_score\n",
        "import numpy as np\n",
        "\n",
        "def calculate_additional_metrics(actual, predicted):\n",
        "    \"\"\"Calculate additional metrics for recommendation systems\"\"\"\n",
        "    # Basic metrics\n",
        "    mae = mean_absolute_error(actual, predicted)\n",
        "    rmse = np.sqrt(mean_squared_error(actual, predicted))\n",
        "    r2 = r2_score(actual, predicted)\n",
        "\n",
        "    # Rating-specific metrics\n",
        "    actual_array = np.array(actual)\n",
        "    pred_array = np.array(predicted)\n",
        "\n",
        "    # Threshold predictions to the same range as the actual ratings\n",
        "    min_rating = np.min(actual_array)\n",
        "    max_rating = np.max(actual_array)\n",
        "    pred_array_clamped = np.clip(pred_array, min_rating, max_rating)\n",
        "\n",
        "    # Calculate accuracy within different thresholds\n",
        "    within_half = np.mean(np.abs(actual_array - pred_array_clamped) <= 0.5)\n",
        "    within_one = np.mean(np.abs(actual_array - pred_array_clamped) <= 1.0)\n",
        "\n",
        "    # Calculate metrics for different rating ranges\n",
        "    low_ratings = actual_array <= 2.0\n",
        "    mid_ratings = (actual_array > 2.0) & (actual_array < 4.0)\n",
        "    high_ratings = actual_array >= 4.0\n",
        "\n",
        "    if np.sum(low_ratings) > 0:\n",
        "        low_mae = mean_absolute_error(actual_array[low_ratings], pred_array[low_ratings])\n",
        "    else:\n",
        "        low_mae = float('nan')\n",
        "\n",
        "    if np.sum(mid_ratings) > 0:\n",
        "        mid_mae = mean_absolute_error(actual_array[mid_ratings], pred_array[mid_ratings])\n",
        "    else:\n",
        "        mid_mae = float('nan')\n",
        "\n",
        "    if np.sum(high_ratings) > 0:\n",
        "        high_mae = mean_absolute_error(actual_array[high_ratings], pred_array[high_ratings])\n",
        "    else:\n",
        "        high_mae = float('nan')\n",
        "\n",
        "    # Create a table of results\n",
        "    metrics = {\n",
        "        'MAE': mae,\n",
        "        'RMSE': rmse,\n",
        "        'R²': r2,\n",
        "        'Within 0.5 Stars': within_half,\n",
        "        'Within 1.0 Stars': within_one,\n",
        "        'MAE (Ratings ≤ 2.0)': low_mae,\n",
        "        'MAE (Ratings 2.0-4.0)': mid_mae,\n",
        "        'MAE (Ratings ≥ 4.0)': high_mae\n",
        "    }\n",
        "\n",
        "    # Print the metrics table\n",
        "    print(\"\\n===== Model Performance Metrics =====\")\n",
        "    for metric, value in metrics.items():\n",
        "        print(f\"{metric.ljust(20)}: {value:.4f}\")\n",
        "\n",
        "    return metrics\n",
        "\n",
        "# Calculate additional metrics\n"
      ]
    },
    {
      "cell_type": "code",
      "execution_count": 30,
      "metadata": {
        "id": "4hU2plc3Yu2R"
      },
      "outputs": [],
      "source": [
        "import pickle\n",
        "def destandardize_ratings(values, scaler_path=None):\n",
        "    # Convert inputs to numpy arrays\n",
        "    preds_array = np.array(values).reshape(-1, 1)\n",
        "\n",
        "    # Load the scaler if path is provided\n",
        "    if scaler_path is not None:\n",
        "        with open(scaler_path, 'rb') as f:\n",
        "            scaler = pickle.load(f)\n",
        "    elif scaler is None:\n",
        "        raise ValueError(\"Either scaler_path or scaler must be provided\")\n",
        "\n",
        "    # Apply inverse transform to convert back to original scale\n",
        "    destandardized_values = scaler.inverse_transform(preds_array).flatten()\n",
        "\n",
        "    return destandardized_values"
      ]
    },
    {
      "cell_type": "code",
      "execution_count": 31,
      "metadata": {
        "id": "8AbswWq4ZWPF"
      },
      "outputs": [],
      "source": [
        "path_scaler = \"/content/drive/MyDrive/Colab Notebooks/rec/Data/y_scaler.pkl\""
      ]
    },
    {
      "cell_type": "code",
      "execution_count": 32,
      "metadata": {
        "id": "WHbw6yQxTxAg"
      },
      "outputs": [],
      "source": [
        "de_pred = destandardize_ratings(predicted, path_scaler)"
      ]
    },
    {
      "cell_type": "code",
      "execution_count": 33,
      "metadata": {
        "colab": {
          "base_uri": "https://localhost:8080/"
        },
        "id": "KHKocZKdbdVK",
        "outputId": "081a291f-9ffd-4c50-e95c-cbae994ac8ec"
      },
      "outputs": [
        {
          "data": {
            "text/plain": [
              "array([3.9373102, 3.5801651, 4.1495347, ..., 4.065472 , 4.1651764,\n",
              "       1.6820381], dtype=float32)"
            ]
          },
          "execution_count": 33,
          "metadata": {},
          "output_type": "execute_result"
        }
      ],
      "source": [
        "de_pred"
      ]
    },
    {
      "cell_type": "code",
      "execution_count": 34,
      "metadata": {
        "id": "W6YMFbuMZ-6s"
      },
      "outputs": [],
      "source": [
        "de_actual = destandardize_ratings(actual, path_scaler)"
      ]
    },
    {
      "cell_type": "code",
      "execution_count": 35,
      "metadata": {
        "colab": {
          "base_uri": "https://localhost:8080/"
        },
        "id": "w4IQStcWbedm",
        "outputId": "29d32109-335c-4115-cfbf-d9cb537126fc"
      },
      "outputs": [
        {
          "data": {
            "text/plain": [
              "array([3.       , 4.       , 5.       , ..., 4.       , 0.5000001,\n",
              "       1.0000001], dtype=float32)"
            ]
          },
          "execution_count": 35,
          "metadata": {},
          "output_type": "execute_result"
        }
      ],
      "source": [
        "de_actual"
      ]
    },
    {
      "cell_type": "code",
      "execution_count": 36,
      "metadata": {
        "colab": {
          "base_uri": "https://localhost:8080/"
        },
        "id": "GcSRPbmNZ787",
        "outputId": "0e49f9f7-721d-4a2d-b1f7-4af288762492"
      },
      "outputs": [
        {
          "name": "stdout",
          "output_type": "stream",
          "text": [
            "\n",
            "===== Model Performance Metrics =====\n",
            "MAE                 : 0.5821\n",
            "RMSE                : 0.7696\n",
            "R²                  : 0.4712\n",
            "Within 0.5 Stars    : 0.5397\n",
            "Within 1.0 Stars    : 0.8334\n",
            "MAE (Ratings ≤ 2.0) : 1.1636\n",
            "MAE (Ratings 2.0-4.0): 0.4502\n",
            "MAE (Ratings ≥ 4.0) : 0.5345\n"
          ]
        }
      ],
      "source": [
        "metrics = calculate_additional_metrics(de_actual, de_pred)"
      ]
    },
    {
      "cell_type": "code",
      "execution_count": null,
      "metadata": {
        "colab": {
          "base_uri": "https://localhost:8080/"
        },
        "id": "Sj6imr0o-SnL",
        "outputId": "b7fff1ef-8051-43f0-ac07-7e5a5fb4f11f"
      },
      "outputs": [
        {
          "name": "stdout",
          "output_type": "stream",
          "text": [
            "Evaluation results saved to /content/drive/MyDrive/Colab Notebooks/rec/Data/evaluation_results\n",
            "Model evaluation complete!\n"
          ]
        }
      ],
      "source": [
        "# Cell: Save evaluation results\n",
        "import json\n",
        "import os\n",
        "\n",
        "# Save metrics and plots\n",
        "results_dir = os.path.join(\"/content/drive/MyDrive/Colab Notebooks/rec/Data/\", 'evaluation_results')\n",
        "os.makedirs(results_dir, exist_ok=True)\n",
        "\n",
        "# Save metrics to JSON\n",
        "with open(os.path.join(results_dir, 'metrics.json'), 'w') as f:\n",
        "    json.dump({k: float(v) for k, v in metrics.items()}, f, indent=4)\n",
        "\n",
        "# Save top N most accurately and inaccurately predicted samples\n",
        "errors = np.abs(np.array(predicted) - np.array(actual))\n",
        "most_accurate_indices = np.argsort(errors)[:100]  # Top 100 most accurate\n",
        "least_accurate_indices = np.argsort(errors)[-100:]  # Top 100 least accurate\n",
        "\n",
        "accuracy_samples = {\n",
        "    'most_accurate': {\n",
        "        'indices': most_accurate_indices.tolist(),\n",
        "        'actual': [float(actual[i]) for i in most_accurate_indices],\n",
        "        'predicted': [float(predicted[i]) for i in most_accurate_indices],\n",
        "        'error': [float(errors[i]) for i in most_accurate_indices]\n",
        "    },\n",
        "    'least_accurate': {\n",
        "        'indices': least_accurate_indices.tolist(),\n",
        "        'actual': [float(actual[i]) for i in least_accurate_indices],\n",
        "        'predicted': [float(predicted[i]) for i in least_accurate_indices],\n",
        "        'error': [float(errors[i]) for i in least_accurate_indices]\n",
        "    }\n",
        "}\n",
        "\n",
        "with open(os.path.join(results_dir, 'accuracy_samples.json'), 'w') as f:\n",
        "    json.dump(accuracy_samples, f, indent=4)\n",
        "\n",
        "print(f\"Evaluation results saved to {results_dir}\")\n",
        "print(\"Model evaluation complete!\")"
      ]
    },
    {
      "cell_type": "code",
      "execution_count": null,
      "metadata": {
        "colab": {
          "base_uri": "https://localhost:8080/",
          "height": 1000
        },
        "id": "AOosmJP1-UZZ",
        "outputId": "f17e2592-2b4e-43ea-a7d5-d879e0cc5844"
      },
      "outputs": [
        {
          "data": {
            "image/png": "[encoded data removed]",
            "text/plain": [
              "<Figure size 1200x1000 with 2 Axes>"
            ]
          },
          "metadata": {},
          "output_type": "display_data"
        }
      ],
      "source": [
        "# Cell: Generate rating distribution analysis\n",
        "plt.figure(figsize=(12, 10))\n",
        "\n",
        "# Plot 1: Error distribution by rating value\n",
        "plt.subplot(2, 1, 1)\n",
        "ratings = np.arange(0.5, 5.5, 0.5)  # From 0.5 to 5.0 in 0.5 steps\n",
        "rating_errors = []\n",
        "\n",
        "for rating in ratings:\n",
        "    # Find samples with this rating\n",
        "    mask = np.isclose(np.array(actual), rating, atol=0.25)\n",
        "    if np.sum(mask) > 0:\n",
        "        # Calculate mean absolute error for this rating\n",
        "        rating_error = np.mean(np.abs(np.array(predicted)[mask] - rating))\n",
        "        rating_errors.append(rating_error)\n",
        "    else:\n",
        "        rating_errors.append(0)\n",
        "\n",
        "plt.bar(ratings, rating_errors, width=0.4)\n",
        "plt.xlabel('Rating')\n",
        "plt.ylabel('Mean Absolute Error')\n",
        "plt.title('Error by Rating Value')\n",
        "plt.grid(True, alpha=0.3)\n",
        "\n",
        "# Plot 2: Prediction bias by rating (over/under prediction)\n",
        "plt.subplot(2, 1, 2)\n",
        "rating_biases = []\n",
        "\n",
        "for rating in ratings:\n",
        "    # Find samples with this rating\n",
        "    mask = np.isclose(np.array(actual), rating, atol=0.25)\n",
        "    if np.sum(mask) > 0:\n",
        "        # Calculate mean bias (positive means over-prediction)\n",
        "        rating_bias = np.mean(np.array(predicted)[mask] - rating)\n",
        "        rating_biases.append(rating_bias)\n",
        "    else:\n",
        "        rating_biases.append(0)\n",
        "\n",
        "plt.bar(ratings, rating_biases, width=0.4, color='orange')\n",
        "plt.axhline(y=0, color='r', linestyle='-', alpha=0.3)\n",
        "plt.xlabel('Rating')\n",
        "plt.ylabel('Mean Bias (Predicted - Actual)')\n",
        "plt.title('Prediction Bias by Rating')\n",
        "plt.grid(True, alpha=0.3)\n",
        "\n",
        "plt.tight_layout()\n",
        "plt.savefig(os.path.join(results_dir, 'rating_analysis.png'), dpi=300)\n",
        "plt.show()"
      ]
    },
    {
      "cell_type": "code",
      "execution_count": null,
      "metadata": {
        "id": "vBweJYBFARz7"
      },
      "outputs": [],
      "source": []
    }
  ],
  "metadata": {
    "accelerator": "GPU",
    "colab": {
      "gpuType": "A100",
      "machine_shape": "hm",
      "provenance": []
    },
    "kernelspec": {
      "display_name": "Python 3",
      "name": "python3"
    },
    "language_info": {
      "name": "python"
    },
    "widgets": {
      "application/vnd.jupyter.widget-state+json": {
        "359a068d8ba74a6384ec073a04e1aa94": {
          "model_module": "@jupyter-widgets/controls",
          "model_module_version": "1.5.0",
          "model_name": "DescriptionStyleModel",
          "state": {
            "_model_module": "@jupyter-widgets/controls",
            "_model_module_version": "1.5.0",
            "_model_name": "DescriptionStyleModel",
            "_view_count": null,
            "_view_module": "@jupyter-widgets/base",
            "_view_module_version": "1.2.0",
            "_view_name": "StyleView",
            "description_width": ""
          }
        },
        "3a2439d735864c339405cfb86c13bfcb": {
          "model_module": "@jupyter-widgets/controls",
          "model_module_version": "1.5.0",
          "model_name": "FloatProgressModel",
          "state": {
            "_dom_classes": [],
            "_model_module": "@jupyter-widgets/controls",
            "_model_module_version": "1.5.0",
            "_model_name": "FloatProgressModel",
            "_view_count": null,
            "_view_module": "@jupyter-widgets/controls",
            "_view_module_version": "1.5.0",
            "_view_name": "ProgressView",
            "bar_style": "success",
            "description": "",
            "description_tooltip": null,
            "layout": "IPY_MODEL_c084de50411347e6a91eef8fea86d43f",
            "max": 3123,
            "min": 0,
            "orientation": "horizontal",
            "style": "IPY_MODEL_9653e190f0e84adebc80d9729c7cae9d",
            "value": 3123
          }
        },
        "5657ca66a80345439ab4b8942f71267b": {
          "model_module": "@jupyter-widgets/controls",
          "model_module_version": "1.5.0",
          "model_name": "HTMLModel",
          "state": {
            "_dom_classes": [],
            "_model_module": "@jupyter-widgets/controls",
            "_model_module_version": "1.5.0",
            "_model_name": "HTMLModel",
            "_view_count": null,
            "_view_module": "@jupyter-widgets/controls",
            "_view_module_version": "1.5.0",
            "_view_name": "HTMLView",
            "description": "",
            "description_tooltip": null,
            "layout": "IPY_MODEL_94679b71db64462b80451f3ad72dd3ef",
            "placeholder": "​",
            "style": "IPY_MODEL_7fd418923f934f28a00a078b51271d59",
            "value": "Evaluating: 100%"
          }
        },
        "624118537ac946c18cc50d28ae3dbadd": {
          "model_module": "@jupyter-widgets/base",
          "model_module_version": "1.2.0",
          "model_name": "LayoutModel",
          "state": {
            "_model_module": "@jupyter-widgets/base",
            "_model_module_version": "1.2.0",
            "_model_name": "LayoutModel",
            "_view_count": null,
            "_view_module": "@jupyter-widgets/base",
            "_view_module_version": "1.2.0",
            "_view_name": "LayoutView",
            "align_content": null,
            "align_items": null,
            "align_self": null,
            "border": null,
            "bottom": null,
            "display": null,
            "flex": null,
            "flex_flow": null,
            "grid_area": null,
            "grid_auto_columns": null,
            "grid_auto_flow": null,
            "grid_auto_rows": null,
            "grid_column": null,
            "grid_gap": null,
            "grid_row": null,
            "grid_template_areas": null,
            "grid_template_columns": null,
            "grid_template_rows": null,
            "height": null,
            "justify_content": null,
            "justify_items": null,
            "left": null,
            "margin": null,
            "max_height": null,
            "max_width": null,
            "min_height": null,
            "min_width": null,
            "object_fit": null,
            "object_position": null,
            "order": null,
            "overflow": null,
            "overflow_x": null,
            "overflow_y": null,
            "padding": null,
            "right": null,
            "top": null,
            "visibility": null,
            "width": null
          }
        },
        "7fd418923f934f28a00a078b51271d59": {
          "model_module": "@jupyter-widgets/controls",
          "model_module_version": "1.5.0",
          "model_name": "DescriptionStyleModel",
          "state": {
            "_model_module": "@jupyter-widgets/controls",
            "_model_module_version": "1.5.0",
            "_model_name": "DescriptionStyleModel",
            "_view_count": null,
            "_view_module": "@jupyter-widgets/base",
            "_view_module_version": "1.2.0",
            "_view_name": "StyleView",
            "description_width": ""
          }
        },
        "94679b71db64462b80451f3ad72dd3ef": {
          "model_module": "@jupyter-widgets/base",
          "model_module_version": "1.2.0",
          "model_name": "LayoutModel",
          "state": {
            "_model_module": "@jupyter-widgets/base",
            "_model_module_version": "1.2.0",
            "_model_name": "LayoutModel",
            "_view_count": null,
            "_view_module": "@jupyter-widgets/base",
            "_view_module_version": "1.2.0",
            "_view_name": "LayoutView",
            "align_content": null,
            "align_items": null,
            "align_self": null,
            "border": null,
            "bottom": null,
            "display": null,
            "flex": null,
            "flex_flow": null,
            "grid_area": null,
            "grid_auto_columns": null,
            "grid_auto_flow": null,
            "grid_auto_rows": null,
            "grid_column": null,
            "grid_gap": null,
            "grid_row": null,
            "grid_template_areas": null,
            "grid_template_columns": null,
            "grid_template_rows": null,
            "height": null,
            "justify_content": null,
            "justify_items": null,
            "left": null,
            "margin": null,
            "max_height": null,
            "max_width": null,
            "min_height": null,
            "min_width": null,
            "object_fit": null,
            "object_position": null,
            "order": null,
            "overflow": null,
            "overflow_x": null,
            "overflow_y": null,
            "padding": null,
            "right": null,
            "top": null,
            "visibility": null,
            "width": null
          }
        },
        "9653e190f0e84adebc80d9729c7cae9d": {
          "model_module": "@jupyter-widgets/controls",
          "model_module_version": "1.5.0",
          "model_name": "ProgressStyleModel",
          "state": {
            "_model_module": "@jupyter-widgets/controls",
            "_model_module_version": "1.5.0",
            "_model_name": "ProgressStyleModel",
            "_view_count": null,
            "_view_module": "@jupyter-widgets/base",
            "_view_module_version": "1.2.0",
            "_view_name": "StyleView",
            "bar_color": null,
            "description_width": ""
          }
        },
        "b0f9f16e2dec42d68c548cb147d947ae": {
          "model_module": "@jupyter-widgets/controls",
          "model_module_version": "1.5.0",
          "model_name": "HTMLModel",
          "state": {
            "_dom_classes": [],
            "_model_module": "@jupyter-widgets/controls",
            "_model_module_version": "1.5.0",
            "_model_name": "HTMLModel",
            "_view_count": null,
            "_view_module": "@jupyter-widgets/controls",
            "_view_module_version": "1.5.0",
            "_view_name": "HTMLView",
            "description": "",
            "description_tooltip": null,
            "layout": "IPY_MODEL_624118537ac946c18cc50d28ae3dbadd",
            "placeholder": "​",
            "style": "IPY_MODEL_359a068d8ba74a6384ec073a04e1aa94",
            "value": " 3123/3123 [09:01&lt;00:00,  6.00it/s]"
          }
        },
        "c084de50411347e6a91eef8fea86d43f": {
          "model_module": "@jupyter-widgets/base",
          "model_module_version": "1.2.0",
          "model_name": "LayoutModel",
          "state": {
            "_model_module": "@jupyter-widgets/base",
            "_model_module_version": "1.2.0",
            "_model_name": "LayoutModel",
            "_view_count": null,
            "_view_module": "@jupyter-widgets/base",
            "_view_module_version": "1.2.0",
            "_view_name": "LayoutView",
            "align_content": null,
            "align_items": null,
            "align_self": null,
            "border": null,
            "bottom": null,
            "display": null,
            "flex": null,
            "flex_flow": null,
            "grid_area": null,
            "grid_auto_columns": null,
            "grid_auto_flow": null,
            "grid_auto_rows": null,
            "grid_column": null,
            "grid_gap": null,
            "grid_row": null,
            "grid_template_areas": null,
            "grid_template_columns": null,
            "grid_template_rows": null,
            "height": null,
            "justify_content": null,
            "justify_items": null,
            "left": null,
            "margin": null,
            "max_height": null,
            "max_width": null,
            "min_height": null,
            "min_width": null,
            "object_fit": null,
            "object_position": null,
            "order": null,
            "overflow": null,
            "overflow_x": null,
            "overflow_y": null,
            "padding": null,
            "right": null,
            "top": null,
            "visibility": null,
            "width": null
          }
        },
        "c64d7952bd94473f816efe8a8120d8a0": {
          "model_module": "@jupyter-widgets/controls",
          "model_module_version": "1.5.0",
          "model_name": "HBoxModel",
          "state": {
            "_dom_classes": [],
            "_model_module": "@jupyter-widgets/controls",
            "_model_module_version": "1.5.0",
            "_model_name": "HBoxModel",
            "_view_count": null,
            "_view_module": "@jupyter-widgets/controls",
            "_view_module_version": "1.5.0",
            "_view_name": "HBoxView",
            "box_style": "",
            "children": [
              "IPY_MODEL_5657ca66a80345439ab4b8942f71267b",
              "IPY_MODEL_3a2439d735864c339405cfb86c13bfcb",
              "IPY_MODEL_b0f9f16e2dec42d68c548cb147d947ae"
            ],
            "layout": "IPY_MODEL_edef73fe967e44cfaa516866ce9b1d36"
          }
        },
        "edef73fe967e44cfaa516866ce9b1d36": {
          "model_module": "@jupyter-widgets/base",
          "model_module_version": "1.2.0",
          "model_name": "LayoutModel",
          "state": {
            "_model_module": "@jupyter-widgets/base",
            "_model_module_version": "1.2.0",
            "_model_name": "LayoutModel",
            "_view_count": null,
            "_view_module": "@jupyter-widgets/base",
            "_view_module_version": "1.2.0",
            "_view_name": "LayoutView",
            "align_content": null,
            "align_items": null,
            "align_self": null,
            "border": null,
            "bottom": null,
            "display": null,
            "flex": null,
            "flex_flow": null,
            "grid_area": null,
            "grid_auto_columns": null,
            "grid_auto_flow": null,
            "grid_auto_rows": null,
            "grid_column": null,
            "grid_gap": null,
            "grid_row": null,
            "grid_template_areas": null,
            "grid_template_columns": null,
            "grid_template_rows": null,
            "height": null,
            "justify_content": null,
            "justify_items": null,
            "left": null,
            "margin": null,
            "max_height": null,
            "max_width": null,
            "min_height": null,
            "min_width": null,
            "object_fit": null,
            "object_position": null,
            "order": null,
            "overflow": null,
            "overflow_x": null,
            "overflow_y": null,
            "padding": null,
            "right": null,
            "top": null,
            "visibility": null,
            "width": null
          }
        }
      }
    }
  },
  "nbformat": 4,
  "nbformat_minor": 0
}
