{
 "cells": [
  {
   "cell_type": "code",
   "execution_count": 15,
   "metadata": {},
   "outputs": [],
   "source": [
    "import pandas as pd\n",
    "from surprise import Reader, Dataset, SVD\n",
    "from surprise.model_selection import train_test_split\n",
    "import numpy as np\n",
    "import glob\n",
    "import os"
   ]
  },
  {
   "cell_type": "markdown",
   "metadata": {},
   "source": [
    "### Load in Data for Content Based Filtering"
   ]
  },
  {
   "cell_type": "code",
   "execution_count": 16,
   "metadata": {},
   "outputs": [
    {
     "name": "stdout",
     "output_type": "stream",
     "text": [
      "Loaded title.ratings: (1535537, 3)\n",
      "Loaded title.principals: (90963124, 6)\n",
      "Loaded title.akas: (51247422, 8)\n",
      "Loaded title.basics: (11461894, 9)\n",
      "Loaded title.episode: (8813357, 4)\n",
      "Loaded title.crew: (11461894, 3)\n"
     ]
    }
   ],
   "source": [
    "imdb_data = {}\n",
    "imdb_folder = './Datasets/imdb data'\n",
    "\n",
    "# Get all TSV files in the folder\n",
    "tsv_files = glob.glob(os.path.join(imdb_folder, '*.tsv'))\n",
    "\n",
    "# Load each TSV file into a dictionary of dataframes\n",
    "for file_path in tsv_files:\n",
    "    file_name = os.path.basename(file_path).replace('.tsv', '')\n",
    "    imdb_data[file_name] = pd.read_csv(file_path, sep='\\t', low_memory=False)\n",
    "    print(f\"Loaded {file_name}: {imdb_data[file_name].shape}\")"
   ]
  },
  {
   "cell_type": "code",
   "execution_count": 17,
   "metadata": {},
   "outputs": [
    {
     "name": "stdout",
     "output_type": "stream",
     "text": [
      "     titleId  ordering                      title region language  \\\n",
      "0  tt0000001         1                 Carmencita     \\N       \\N   \n",
      "1  tt0000001         2                 Carmencita     DE       \\N   \n",
      "2  tt0000001         3                 Carmencita     US       \\N   \n",
      "3  tt0000001         4  Carmencita - spanyol tánc     HU       \\N   \n",
      "4  tt0000001         5                 Καρμενσίτα     GR       \\N   \n",
      "5  tt0000001         6                 Карменсита     RU       \\N   \n",
      "6  tt0000001         7                 Карменсіта     UA       \\N   \n",
      "7  tt0000001         8                    カルメンチータ     JP       ja   \n",
      "8  tt0000002         1     Le clown et ses chiens     \\N       \\N   \n",
      "9  tt0000002         2          A bohóc és kutyái     HU       \\N   \n",
      "\n",
      "         types     attributes  isOriginalTitle  \n",
      "0     original             \\N                1  \n",
      "1           \\N  literal title                0  \n",
      "2  imdbDisplay             \\N                0  \n",
      "3  imdbDisplay             \\N                0  \n",
      "4  imdbDisplay             \\N                0  \n",
      "5  imdbDisplay             \\N                0  \n",
      "6  imdbDisplay             \\N                0  \n",
      "7  imdbDisplay             \\N                0  \n",
      "8     original             \\N                1  \n",
      "9  imdbDisplay             \\N                0  \n"
     ]
    }
   ],
   "source": [
    "print(imdb_data['title.akas'].head(10))\n"
   ]
  },
  {
   "cell_type": "code",
   "execution_count": 18,
   "metadata": {},
   "outputs": [
    {
     "data": {
      "text/plain": [
       "array(['original', '\\\\N', 'imdbDisplay', 'alternative', 'festival', 'dvd',\n",
       "       'working', 'tv', 'video', 'imdbDisplay\\x02tv', 'alternative\\x02tv',\n",
       "       'imdbDisplay\\x02working', 'imdbDisplay\\x02festival',\n",
       "       'working\\x02tv', 'imdbDisplay\\x02video', 'dvd\\x02alternative',\n",
       "       'tv\\x02video', 'imdbDisplay\\x02dvd', 'working\\x02video',\n",
       "       'working\\x02festival', 'dvd\\x02video', 'alternative\\x02festival',\n",
       "       'alternative\\x02video', 'working\\x02alternative'], dtype=object)"
      ]
     },
     "execution_count": 18,
     "metadata": {},
     "output_type": "execute_result"
    }
   ],
   "source": [
    "imdb_data['title.akas'][\"types\"].unique()"
   ]
  },
  {
   "cell_type": "markdown",
   "metadata": {},
   "source": [
    "### Load Names of tsv files"
   ]
  },
  {
   "cell_type": "code",
   "execution_count": 19,
   "metadata": {},
   "outputs": [
    {
     "data": {
      "text/plain": [
       "6"
      ]
     },
     "execution_count": 19,
     "metadata": {},
     "output_type": "execute_result"
    }
   ],
   "source": [
    "len(imdb_data)"
   ]
  },
  {
   "cell_type": "markdown",
   "metadata": {},
   "source": [
    "### Load in Collaborative Filtering Data"
   ]
  },
  {
   "cell_type": "code",
   "execution_count": 20,
   "metadata": {},
   "outputs": [],
   "source": [
    "\n",
    "movies_df = pd.read_csv('./Datasets/ml-32m/links.csv')\n"
   ]
  },
  {
   "cell_type": "code",
   "execution_count": 21,
   "metadata": {},
   "outputs": [
    {
     "name": "stdout",
     "output_type": "stream",
     "text": [
      "   movieId  imdbId   tmdbId\n",
      "0        1  114709    862.0\n",
      "1        2  113497   8844.0\n",
      "2        3  113228  15602.0\n",
      "3        4  114885  31357.0\n",
      "4        5  113041  11862.0\n"
     ]
    }
   ],
   "source": [
    "print(movies_df.head())"
   ]
  },
  {
   "cell_type": "markdown",
   "metadata": {},
   "source": [
    "### Remove Movies without cast, crew, or ratings"
   ]
  },
  {
   "cell_type": "code",
   "execution_count": 22,
   "metadata": {},
   "outputs": [
    {
     "data": {
      "text/plain": [
       "5971241"
      ]
     },
     "execution_count": 22,
     "metadata": {},
     "output_type": "execute_result"
    }
   ],
   "source": [
    "copy_akas = imdb_data[\"title.akas\"].copy()\n",
    "keys = [\"title.crew\", \"title.ratings\", \"title.principals\"]\n",
    "for key in keys:\n",
    "    mask = copy_akas[\"titleId\"].isin(imdb_data[key][\"tconst\"])\n",
    "    copy_akas = copy_akas[mask]\n",
    "len(copy_akas[\"titleId\"])\n",
    "\n"
   ]
  },
  {
   "cell_type": "markdown",
   "metadata": {},
   "source": [
    "### Take Intersection of Movies in Both Datasets"
   ]
  },
  {
   "cell_type": "markdown",
   "metadata": {},
   "source": [
    "#### Remove Rows from MovieLens Dataframes"
   ]
  },
  {
   "cell_type": "code",
   "execution_count": 23,
   "metadata": {},
   "outputs": [
    {
     "name": "stdout",
     "output_type": "stream",
     "text": [
      "84432\n"
     ]
    },
    {
     "data": {
      "text/plain": [
       "84432"
      ]
     },
     "execution_count": 23,
     "metadata": {},
     "output_type": "execute_result"
    }
   ],
   "source": [
    "ratings = pd.read_csv('./Datasets/ml-32m/ratings.csv')\n",
    "ratings = ratings[ratings[\"movieId\"].isin(movies_df[\"movieId\"])]\n",
    "movies_df_cleaned = movies_df[movies_df[\"movieId\"].isin(ratings[\"movieId\"])]\n",
    "print(len(movies_df_cleaned[\"movieId\"].unique()))\n",
    "len(ratings[\"movieId\"].unique())"
   ]
  },
  {
   "cell_type": "markdown",
   "metadata": {},
   "source": [
    "##### Turn string id into numeric id"
   ]
  },
  {
   "cell_type": "code",
   "execution_count": 24,
   "metadata": {},
   "outputs": [],
   "source": [
    "copy_akas[\"titleIdNumeric\"] = copy_akas[\"titleId\"].str.replace(\"tt\", \"\").astype(int)"
   ]
  },
  {
   "cell_type": "code",
   "execution_count": 25,
   "metadata": {},
   "outputs": [
    {
     "data": {
      "text/plain": [
       "83955"
      ]
     },
     "execution_count": 25,
     "metadata": {},
     "output_type": "execute_result"
    }
   ],
   "source": [
    "movies_df_cleaned = movies_df_cleaned[movies_df_cleaned[\"imdbId\"].isin(copy_akas[\"titleIdNumeric\"])]\n",
    "len(movies_df_cleaned[\"imdbId\"].unique())"
   ]
  },
  {
   "cell_type": "code",
   "execution_count": 26,
   "metadata": {},
   "outputs": [
    {
     "data": {
      "text/plain": [
       "83955"
      ]
     },
     "execution_count": 26,
     "metadata": {},
     "output_type": "execute_result"
    }
   ],
   "source": [
    "copy_akas_cleaned = copy_akas[copy_akas[\"titleIdNumeric\"].isin(movies_df_cleaned[\"imdbId\"])]\n",
    "len(copy_akas_cleaned[\"titleIdNumeric\"].unique())"
   ]
  },
  {
   "cell_type": "code",
   "execution_count": 27,
   "metadata": {},
   "outputs": [
    {
     "data": {
      "text/plain": [
       "83955"
      ]
     },
     "execution_count": 27,
     "metadata": {},
     "output_type": "execute_result"
    }
   ],
   "source": [
    "ratings = ratings[ratings[\"movieId\"].isin(movies_df_cleaned[\"movieId\"])]\n",
    "len(ratings[\"movieId\"].unique())"
   ]
  },
  {
   "cell_type": "code",
   "execution_count": 29,
   "metadata": {},
   "outputs": [
    {
     "data": {
      "text/plain": [
       "dict_keys(['title.ratings', 'title.principals', 'title.akas', 'title.basics', 'title.episode', 'title.crew'])"
      ]
     },
     "execution_count": 29,
     "metadata": {},
     "output_type": "execute_result"
    }
   ],
   "source": [
    "imdb_data.keys()"
   ]
  },
  {
   "cell_type": "markdown",
   "metadata": {},
   "source": [
    "### Remove rows from other IMDB Dataframes"
   ]
  },
  {
   "cell_type": "code",
   "execution_count": 30,
   "metadata": {},
   "outputs": [],
   "source": [
    "imdb_data_cleaned_copy = {}\n",
    "for key in imdb_data.keys():\n",
    "    if key != \"title.episode\" and key != \"title.akas\":\n",
    "        imdb_data_cleaned_copy[key] = imdb_data[key].copy()  \n",
    "        mask = imdb_data_cleaned_copy[key][\"tconst\"].isin(copy_akas_cleaned[\"titleId\"])\n",
    "        imdb_data_cleaned_copy[key] = imdb_data_cleaned_copy[key][mask]"
   ]
  },
  {
   "cell_type": "markdown",
   "metadata": {},
   "source": [
    "### Write Out Cleaned Data to CSV Files"
   ]
  },
  {
   "cell_type": "markdown",
   "metadata": {},
   "source": [
    "##### Write Out Movie Lens Data First"
   ]
  },
  {
   "cell_type": "code",
   "execution_count": 31,
   "metadata": {},
   "outputs": [],
   "source": [
    "output_dir_movielens = './Datasets/ml-32m-cleaned'\n",
    "os.makedirs(output_dir_movielens, exist_ok=True)\n",
    "ratings.to_csv(f'{output_dir_movielens}/ratings.csv', index=False)\n",
    "movies_df_cleaned.to_csv(f'{output_dir_movielens}/links.csv', index=False)\n"
   ]
  },
  {
   "cell_type": "code",
   "execution_count": 32,
   "metadata": {},
   "outputs": [
    {
     "data": {
      "text/plain": [
       "dict_keys(['title.ratings', 'title.principals', 'title.basics', 'title.crew'])"
      ]
     },
     "execution_count": 32,
     "metadata": {},
     "output_type": "execute_result"
    }
   ],
   "source": [
    "imdb_data_cleaned_copy.keys()"
   ]
  },
  {
   "cell_type": "markdown",
   "metadata": {},
   "source": [
    "### Write Out IMDB Data"
   ]
  },
  {
   "cell_type": "code",
   "execution_count": 33,
   "metadata": {},
   "outputs": [
    {
     "name": "stdout",
     "output_type": "stream",
     "text": [
      "Saved title.ratings.csv\n",
      "Saved title.principals.csv\n",
      "Saved title.basics.csv\n",
      "Saved title.crew.csv\n"
     ]
    }
   ],
   "source": [
    "output_dir_imdb = './Datasets/imdb-data-cleaned'\n",
    "os.makedirs(output_dir_imdb, exist_ok=True)\n",
    "for key, df in imdb_data_cleaned_copy.items():\n",
    "    # Replace the original .tsv extension with .csv\n",
    "    filename = key + '.csv'\n",
    "    output_path = os.path.join(output_dir_imdb, filename)\n",
    "    df.to_csv(output_path, index=False)\n",
    "    print(f\"Saved {filename}\")"
   ]
  },
  {
   "cell_type": "markdown",
   "metadata": {},
   "source": [
    "### Remove Any Moviews without "
   ]
  },
  {
   "cell_type": "markdown",
   "metadata": {},
   "source": [
    "### Matrix Factorization Approach"
   ]
  },
  {
   "cell_type": "markdown",
   "metadata": {},
   "source": []
  },
  {
   "cell_type": "markdown",
   "metadata": {},
   "source": [
    "### Autoencoder Approach"
   ]
  },
  {
   "cell_type": "code",
   "execution_count": null,
   "metadata": {},
   "outputs": [],
   "source": [
    "### Have input be partial user ratings instead of items"
   ]
  },
  {
   "cell_type": "markdown",
   "metadata": {},
   "source": [
    "### Factorization Machines"
   ]
  },
  {
   "cell_type": "code",
   "execution_count": null,
   "metadata": {},
   "outputs": [],
   "source": []
  }
 ],
 "metadata": {
  "kernelspec": {
   "display_name": "Python 3 (ipykernel)",
   "language": "python",
   "name": "python3"
  },
  "language_info": {
   "codemirror_mode": {
    "name": "ipython",
    "version": 3
   },
   "file_extension": ".py",
   "mimetype": "text/x-python",
   "name": "python",
   "nbconvert_exporter": "python",
   "pygments_lexer": "ipython3",
   "version": "3.12.9"
  }
 },
 "nbformat": 4,
 "nbformat_minor": 2
}
